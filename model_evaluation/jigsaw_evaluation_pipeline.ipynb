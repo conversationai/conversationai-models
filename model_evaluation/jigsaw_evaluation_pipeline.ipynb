{
 "cells": [
  {
   "cell_type": "markdown",
   "metadata": {
    "colab_type": "text",
    "id": "-YibCLoSLRHp"
   },
   "source": [
    "Copyright 2018 Google LLC.\n",
    "\n",
    "Licensed under the Apache License, Version 2.0 (the \"License\");\n",
    "you may not use this file except in compliance with the License.\n",
    "You may obtain a copy of the License at\n",
    "\n",
    "https://www.apache.org/licenses/LICENSE-2.0\n",
    "\n",
    "Unless required by applicable law or agreed to in writing, software\n",
    "distributed under the License is distributed on an \"AS IS\" BASIS,\n",
    "WITHOUT WARRANTIES OR CONDITIONS OF ANY KIND, either express or implied.\n",
    "See the License for the specific language governing permissions and\n",
    "limitations under the License."
   ]
  },
  {
   "cell_type": "markdown",
   "metadata": {
    "colab_type": "text",
    "id": "LMykUGMauh9b"
   },
   "source": [
    "# Evaluation code\n",
    "\n",
    "\n",
    "__Disclaimer__\n",
    "*   This notebook contains experimental code, which may be changed without notice.\n",
    "*   The ideas here are some ideas relevant to fairness - they are not the whole story!\n",
    "\n"
   ]
  },
  {
   "cell_type": "markdown",
   "metadata": {},
   "source": [
    "# Notebook summary"
   ]
  },
  {
   "cell_type": "markdown",
   "metadata": {},
   "source": [
    "This notebook intends to evaluate a list of models on two dimensions:\n",
    "- \"Performance\": How well the model perform to classify the data (intended bias). Currently, we use the AUC.\n",
    "- \"Bias\": How much bias does the model contain (unintended bias). Currently, we use the pinned auc.\n",
    "\n",
    "This script takes the following steps:\n",
    "\n",
    "- Write input function to generate 2 datasets:\n",
    "    - a \"performance dataset\" which will be used for the first set of metrics. This dataset is supposed to be similar format to the training data (contain a text and a label).\n",
    "    - a \"bias dataset\" which will be used for the second set of metrics. This data contains a text, a label but also some subgroup information to evaluate the unintended bias on.\n",
    "- Runs predictions with the export_utils.\n",
    "- Evaluate metrics."
   ]
  },
  {
   "cell_type": "code",
   "execution_count": null,
   "metadata": {},
   "outputs": [],
   "source": [
    "%load_ext autoreload"
   ]
  },
  {
   "cell_type": "code",
   "execution_count": null,
   "metadata": {},
   "outputs": [],
   "source": [
    "%autoreload 2"
   ]
  },
  {
   "cell_type": "code",
   "execution_count": null,
   "metadata": {},
   "outputs": [],
   "source": [
    "from __future__ import absolute_import\n",
    "from __future__ import division\n",
    "from __future__ import print_function\n",
    "\n",
    "import getpass\n",
    "import json\n",
    "import nltk\n",
    "import numpy as np\n",
    "import pandas as pd\n",
    "import pkg_resources\n",
    "import os\n",
    "import random\n",
    "import re\n",
    "import seaborn as sns\n",
    "\n",
    "# import googleapiclient.discovery as discovery\n",
    "# import googleapiclient.errors as errors\n",
    "import tensorflow as tf\n",
    "from tensorflow.python.lib.io import file_io"
   ]
  },
  {
   "cell_type": "code",
   "execution_count": null,
   "metadata": {
    "scrolled": true
   },
   "outputs": [],
   "source": [
    "from utils_export.dataset import Dataset, Model\n",
    "from utils_export import utils_cloudml"
   ]
  },
  {
   "cell_type": "code",
   "execution_count": null,
   "metadata": {},
   "outputs": [],
   "source": [
    "os.environ['GCS_READ_CACHE_MAX_SIZE_MB'] = '0' #Faster to access GCS file + https://github.com/tensorflow/tensorflow/issues/15530"
   ]
  },
  {
   "cell_type": "markdown",
   "metadata": {},
   "source": [
    "# Settings"
   ]
  },
  {
   "cell_type": "markdown",
   "metadata": {},
   "source": [
    "### Global variables"
   ]
  },
  {
   "cell_type": "code",
   "execution_count": null,
   "metadata": {},
   "outputs": [],
   "source": [
    "# User inputs\n",
    "PROJECT_NAME = 'wikidetox'\n",
    "\n",
    "# Information about deployed model.\n",
    "MODEL_NAMES = ['tf_gru_attention:v_20180914_163804']\n",
    "TEXT_FEATURE_NAME = 'comment_text' #Input text\n",
    "SENTENCE_KEY = 'comment_key' #Input key\n",
    "LABEL_NAME_PREDICTION_MODEL = 'frac_neg/logistic' # Output prediction"
   ]
  },
  {
   "cell_type": "markdown",
   "metadata": {},
   "source": [
    "# Part 1: Creating input_fn"
   ]
  },
  {
   "cell_type": "code",
   "execution_count": null,
   "metadata": {},
   "outputs": [],
   "source": [
    "def tokenizer(text, lowercase=True):\n",
    "  \"\"\"Converts text to a list of words.\n",
    "\n",
    "  Args:\n",
    "    text: text to tokenize (string).\n",
    "    lowercase: whether to include lowercasing in preprocessing (boolean).\n",
    "    tokenizer: Python function to tokenize the text on.\n",
    "\n",
    "  Returns:\n",
    "    A list of strings (words).\n",
    "  \"\"\"\n",
    "  words = nltk.word_tokenize(text.decode('utf-8'))\n",
    "  if lowercase:\n",
    "    words = [w.lower() for w in words]\n",
    "  return words"
   ]
  },
  {
   "cell_type": "markdown",
   "metadata": {},
   "source": [
    "### Performance dataset"
   ]
  },
  {
   "cell_type": "code",
   "execution_count": null,
   "metadata": {},
   "outputs": [],
   "source": [
    "# User inputs\n",
    "PERFORMANCE_DATASET = 'gs://kaggle-model-experiments/resources/toxicity_q42017_test.tfrecord'\n",
    "LABEL_NAME_TEST_FILE = 'frac_neg' #Name of the label in the performance dataset"
   ]
  },
  {
   "cell_type": "code",
   "execution_count": null,
   "metadata": {},
   "outputs": [],
   "source": [
    "def create_input_fn(tf_records_path, text_feature_name, label_name):\n",
    "                    \n",
    "  def load_tf_records_to_pandas(max_n_examples=None, random_filter_keep_rate=1.0):\n",
    "      '''Loads tf-records into a pandas dataframe.'''\n",
    "\n",
    "      if not max_n_examples:\n",
    "        max_n_examples = float('inf')\n",
    "\n",
    "      # Read TFRecord file\n",
    "      reader = tf.TFRecordReader()\n",
    "      filename_queue = tf.train.string_input_producer([tf_records_path], num_epochs=1)\n",
    "\n",
    "      _, serialized_example = reader.read(filename_queue)\n",
    "\n",
    "      # Define features\n",
    "      read_features = {\n",
    "          text_feature_name: tf.FixedLenFeature([], dtype=tf.string),\n",
    "          label_name: tf.FixedLenFeature([], dtype=tf.float32)\n",
    "      }\n",
    "\n",
    "      # Extract features from serialized data\n",
    "      read_data = tf.parse_single_example(serialized=serialized_example,\n",
    "                                          features=read_features)\n",
    "\n",
    "      # Read and print data:\n",
    "      sess = tf.InteractiveSession()\n",
    "\n",
    "      # Many tf.train functions use tf.train.QueueRunner,\n",
    "      # so we need to start it before we read.\n",
    "      sess.run(tf.global_variables_initializer())\n",
    "      sess.run(tf.local_variables_initializer())\n",
    "      sess.run(tf.tables_initializer())\n",
    "      tf.train.start_queue_runners(sess)\n",
    "\n",
    "      d = []\n",
    "      new_line = sess.run(read_data)\n",
    "      count = 0\n",
    "      while new_line:\n",
    "        if random.random() < random_filter_keep_rate:\n",
    "            d.append(new_line)\n",
    "            count += 1\n",
    "            if count >= max_n_examples:\n",
    "              break\n",
    "            if not(count % 100000):\n",
    "              print ('Loaded {} lines.'.format(count))\n",
    "        try:\n",
    "          new_line = sess.run(read_data)\n",
    "        except tf.errors.OutOfRangeError:\n",
    "          print ('End of file.')\n",
    "          break\n",
    "        \n",
    "      res = pd.DataFrame(d)\n",
    "      res[text_feature_name] = list(map(tokenizer, res[text_feature_name]))\n",
    "      \n",
    "      return res\n",
    "\n",
    "  return load_tf_records_to_pandas"
   ]
  },
  {
   "cell_type": "markdown",
   "metadata": {},
   "source": [
    "### Bias dataset"
   ]
  },
  {
   "cell_type": "code",
   "execution_count": null,
   "metadata": {},
   "outputs": [],
   "source": [
    "!pip install -U -q git+https://github.com/conversationai/unintended-ml-bias-analysis@1de676a31de9e43892964f71d1e38e90fc8b331e"
   ]
  },
  {
   "cell_type": "code",
   "execution_count": null,
   "metadata": {},
   "outputs": [],
   "source": [
    "from unintended_ml_bias import model_bias_analysis"
   ]
  },
  {
   "cell_type": "code",
   "execution_count": null,
   "metadata": {},
   "outputs": [],
   "source": [
    "# Loading it from it the unintended_ml_bias github.\n",
    "entire_test_bias_df = pd.read_csv(\n",
    "    pkg_resources.resource_stream(\"unintended_ml_bias\", \"eval_datasets/bias_madlibs_77k.csv\"))\n",
    "entire_test_bias_df['raw_text'] = entire_test_bias_df['Text']\n",
    "entire_test_bias_df['label'] = entire_test_bias_df['Label']\n",
    "entire_test_bias_df['label'] = list(map(lambda x: x=='BAD', entire_test_bias_df['label']))\n",
    "entire_test_bias_df = entire_test_bias_df[['raw_text', 'label']].copy()\n",
    "terms = [line.strip()\n",
    "         for line in pkg_resources.resource_stream(\"unintended_ml_bias\", \"bias_madlibs_data/adjectives_people.txt\")]\n",
    "model_bias_analysis.add_subgroup_columns_from_text(entire_test_bias_df, 'raw_text', terms)\n",
    "# Add preprocessing\n",
    "entire_test_bias_df['text'] = list(map(tokenizer, entire_test_bias_df['raw_text']))"
   ]
  },
  {
   "cell_type": "code",
   "execution_count": null,
   "metadata": {},
   "outputs": [],
   "source": [
    "def input_fn_bias(max_n_examples):\n",
    "    if max_n_examples:\n",
    "        res = entire_test_bias_df.sample(n=max_n_examples, random_state=2018)\n",
    "    else:\n",
    "        res = entire_test_bias_df\n",
    "    res = res.copy(deep=True)\n",
    "    res = res.rename(\n",
    "        columns={\n",
    "            'raw_text': TEXT_FEATURE_NAME\n",
    "        })\n",
    "    return res"
   ]
  },
  {
   "cell_type": "markdown",
   "metadata": {},
   "source": [
    "# Part 2: Running prediction"
   ]
  },
  {
   "cell_type": "markdown",
   "metadata": {},
   "source": [
    "### Defining the model"
   ]
  },
  {
   "cell_type": "code",
   "execution_count": null,
   "metadata": {},
   "outputs": [],
   "source": [
    "# User inputs.\n",
    "model_input_spec = {\n",
    "    TEXT_FEATURE_NAME: utils_cloudml.FeatureSpec.LIST_STRING} #library will use this automatically\n",
    "\n",
    "model = Model(\n",
    "    feature_keys_spec=model_input_spec,\n",
    "    prediction_keys=LABEL_NAME_PREDICTION_MODEL,\n",
    "    example_key=SENTENCE_KEY,\n",
    "    model_names=MODEL_NAMES,\n",
    "    project_name=PROJECT_NAME)"
   ]
  },
  {
   "cell_type": "markdown",
   "metadata": {},
   "source": [
    "### Performance dataset"
   ]
  },
  {
   "cell_type": "code",
   "execution_count": null,
   "metadata": {},
   "outputs": [],
   "source": [
    "# User inputs\n",
    "SIZE_PERFORMANCE_DATA_SET = 10000\n",
    "\n",
    "# Pattern for path of tf_records\n",
    "TF_RECORD_PERFORMANCE_PATTERN = os.path.join(\n",
    "    'gs://kaggle-model-experiments/',\n",
    "    getpass.getuser(),\n",
    "    'tfrecords/test_performance')"
   ]
  },
  {
   "cell_type": "code",
   "execution_count": null,
   "metadata": {
    "scrolled": false
   },
   "outputs": [],
   "source": [
    "input_fn_performance = create_input_fn(PERFORMANCE_DATASET, TEXT_FEATURE_NAME, LABEL_NAME_TEST_FILE)\n",
    "dataset_performance = Dataset(input_fn_performance)\n",
    "dataset_performance.load_data(SIZE_PERFORMANCE_DATA_SET, random_filter_keep_rate=0.5)"
   ]
  },
  {
   "cell_type": "code",
   "execution_count": null,
   "metadata": {},
   "outputs": [],
   "source": [
    "dataset_performance.add_model_prediction_to_data(model, tf_record_path_pattern=TF_RECORD_PERFORMANCE_PATTERN)"
   ]
  },
  {
   "cell_type": "markdown",
   "metadata": {},
   "source": [
    "### Bias dataset"
   ]
  },
  {
   "cell_type": "code",
   "execution_count": null,
   "metadata": {},
   "outputs": [],
   "source": [
    "# User inputs\n",
    "SIZE_PERFORMANCE_DATA_SET = None\n",
    "\n",
    "# Pattern for path of tf_records\n",
    "TF_RECORD_BIAS_PATTERN = os.path.join(\n",
    "    'gs://kaggle-model-experiments/',\n",
    "    getpass.getuser(),\n",
    "    'tfrecords/bias_performance')"
   ]
  },
  {
   "cell_type": "code",
   "execution_count": null,
   "metadata": {},
   "outputs": [],
   "source": [
    "dataset_bias = Dataset(input_fn_bias)\n",
    "dataset_bias.load_data(SIZE_PERFORMANCE_DATA_SET)"
   ]
  },
  {
   "cell_type": "code",
   "execution_count": null,
   "metadata": {},
   "outputs": [],
   "source": [
    "dataset_bias.add_model_prediction_to_data(model, tf_record_path_pattern=TF_RECORD_BIAS_PATTERN)"
   ]
  },
  {
   "cell_type": "markdown",
   "metadata": {},
   "source": [
    "### Post processing"
   ]
  },
  {
   "cell_type": "code",
   "execution_count": null,
   "metadata": {},
   "outputs": [],
   "source": [
    "# Setting the table to match the required format.\n",
    "test_performance_df = dataset_performance.show_data()\n",
    "test_performance_df = test_performance_df.rename(\n",
    "    columns={\n",
    "        TEXT_FEATURE_NAME: 'raw_text',\n",
    "        LABEL_NAME_TEST_FILE: 'label'\n",
    "    })\n",
    "test_performance_df['label'] = list(map(lambda x :bool(round(x)), list(test_performance_df['label'])))"
   ]
  },
  {
   "cell_type": "code",
   "execution_count": null,
   "metadata": {},
   "outputs": [],
   "source": [
    "test_bias_df = dataset_bias.show_data()"
   ]
  },
  {
   "cell_type": "markdown",
   "metadata": {},
   "source": [
    "### Analyzing final results"
   ]
  },
  {
   "cell_type": "code",
   "execution_count": null,
   "metadata": {
    "colab": {
     "autoexec": {
      "startup": false,
      "wait_interval": 0
     },
     "base_uri": "https://localhost:8080/",
     "height": 204
    },
    "colab_type": "code",
    "executionInfo": {
     "elapsed": 17,
     "status": "ok",
     "timestamp": 1530641283264,
     "user": {
      "displayName": "Flavien Prost",
      "photoUrl": "//lh5.googleusercontent.com/-2GvWuP8dy24/AAAAAAAAAAI/AAAAAAAAAHI/aCatYKxJMXQ/s50-c-k-no/photo.jpg",
      "userId": "100080410554240838905"
     },
     "user_tz": 240
    },
    "id": "Y7R4heIB5GaV",
    "outputId": "e8e0c3bc-96d8-4635-865a-275052054df8"
   },
   "outputs": [],
   "source": [
    "test_performance_df.head()"
   ]
  },
  {
   "cell_type": "code",
   "execution_count": null,
   "metadata": {
    "colab": {
     "autoexec": {
      "startup": false,
      "wait_interval": 0
     },
     "base_uri": "https://localhost:8080/",
     "height": 233
    },
    "colab_type": "code",
    "executionInfo": {
     "elapsed": 41,
     "status": "ok",
     "timestamp": 1530641286091,
     "user": {
      "displayName": "Flavien Prost",
      "photoUrl": "//lh5.googleusercontent.com/-2GvWuP8dy24/AAAAAAAAAAI/AAAAAAAAAHI/aCatYKxJMXQ/s50-c-k-no/photo.jpg",
      "userId": "100080410554240838905"
     },
     "user_tz": 240
    },
    "id": "Ln2BXOg4Q6GP",
    "outputId": "bb5288e8-9f10-4796-b36e-42f5c02cb148"
   },
   "outputs": [],
   "source": [
    "test_bias_df.head()"
   ]
  },
  {
   "cell_type": "markdown",
   "metadata": {
    "colab_type": "text",
    "id": "8m8QI4qEjtcY"
   },
   "source": [
    "# Part 3: Run evaluation metrics"
   ]
  },
  {
   "cell_type": "code",
   "execution_count": null,
   "metadata": {},
   "outputs": [],
   "source": [
    "MODEL_FAMILIES = [MODEL_NAMES]"
   ]
  },
  {
   "cell_type": "markdown",
   "metadata": {
    "colab_type": "text",
    "id": "PhwSHsMtO9fF"
   },
   "source": [
    "## Performance metrics"
   ]
  },
  {
   "cell_type": "markdown",
   "metadata": {},
   "source": [
    "### Data Format"
   ]
  },
  {
   "cell_type": "markdown",
   "metadata": {},
   "source": [
    "At this point, our performance data is in DataFrame df, with columns:\n",
    "\n",
    "text: Full text of the comment.\n",
    "label: True if the comment is Toxic, False otherwise.\n",
    "< model name >: One column per model, cells contain the score from that model.\n",
    "You can run the analysis below on any data in this format. Subgroup labels can be generated via words in the text as done above, or come from human labels if you have them."
   ]
  },
  {
   "cell_type": "markdown",
   "metadata": {},
   "source": [
    "### Run AUC"
   ]
  },
  {
   "cell_type": "code",
   "execution_count": null,
   "metadata": {
    "colab": {
     "autoexec": {
      "startup": false,
      "wait_interval": 0
     }
    },
    "colab_type": "code",
    "id": "XUZYCq-6N8MK"
   },
   "outputs": [],
   "source": [
    "import sklearn.metrics as metrics"
   ]
  },
  {
   "cell_type": "code",
   "execution_count": null,
   "metadata": {
    "colab": {
     "autoexec": {
      "startup": false,
      "wait_interval": 0
     },
     "base_uri": "https://localhost:8080/",
     "height": 35
    },
    "colab_type": "code",
    "executionInfo": {
     "elapsed": 32,
     "status": "ok",
     "timestamp": 1530641399913,
     "user": {
      "displayName": "Flavien Prost",
      "photoUrl": "//lh5.googleusercontent.com/-2GvWuP8dy24/AAAAAAAAAAI/AAAAAAAAAHI/aCatYKxJMXQ/s50-c-k-no/photo.jpg",
      "userId": "100080410554240838905"
     },
     "user_tz": 240
    },
    "id": "yc8SWZbqMwA4",
    "outputId": "6e9399b8-ce22-42bb-c318-959bae73f6c0"
   },
   "outputs": [],
   "source": [
    "for model_family in MODEL_FAMILIES:\n",
    "  auc_list = []\n",
    "  for model in model_family:\n",
    "    fpr, tpr, thresholds = metrics.roc_curve(\n",
    "        test_performance_df['label'],\n",
    "        test_performance_df[model])\n",
    "    auc_list.append(metrics.auc(fpr, tpr))\n",
    "  print ('Auc for model {}: {}'.format(model, np.mean(auc_list)))"
   ]
  },
  {
   "cell_type": "markdown",
   "metadata": {
    "colab_type": "text",
    "id": "vTrKsfIcxoBh"
   },
   "source": [
    "## Unintended Bias Metrics"
   ]
  },
  {
   "cell_type": "markdown",
   "metadata": {
    "colab_type": "text",
    "id": "D3ZJSKY8FHFH"
   },
   "source": [
    "### Data Format\n",
    "At this point, our bias data is in DataFrame df, with columns:\n",
    "\n",
    "*   label: True if the comment is Toxic, False otherwise.\n",
    "*   < model name >: One column per model, cells contain the score from that model.\n",
    "*   < subgroup >: One column per identity, True if the comment mentions this identity.\n",
    "\n",
    "You can run the analysis below on any data in this format. Subgroup labels can be \n",
    "generated via words in the text as done above, or come from human labels if you have them.\n"
   ]
  },
  {
   "cell_type": "markdown",
   "metadata": {
    "colab_type": "text",
    "id": "lPXk78apx2-Z"
   },
   "source": [
    "### Pinned AUC\n",
    "Pinned AUC measures the extent of unintended bias of a real-value score function\n",
    "by measuring each sub-group's divergence from the general distribution.\n",
    "\n",
    "Let $D$ represent the full data set and $D_g$ be the set of examples in subgroup\n",
    "$g$. Then:\n",
    "\n",
    "\n",
    "$$ Pinned \\ dataset \\ for \\ group \\ g = pD_g = s(D_g) + s(D), |s(D_g)| = |s(D)| $$\n",
    "\n",
    "$$ Pinned \\ AUC \\ for \\ group \\ g = pAUC_g = AUC(pD_g) $$\n",
    "\n",
    "$$ Pinned \\ AUC \\ Squared \\ Equality \\ Difference = \\Sigma_{g \\in G}(AUC - pAUC_g)^2 $$\n"
   ]
  },
  {
   "cell_type": "markdown",
   "metadata": {
    "colab_type": "text",
    "id": "65U3PzABPiE6"
   },
   "source": [
    "### Pinned AUC Equality Difference\n",
    "The table below shows the pinned AUC equality difference for each model family.\n",
    "Lower scores (lighter red) represent more similarity between each group's pinned AUC, which means\n",
    "less unintended bias.\n",
    "\n",
    "On this set, the wiki_debias_cnn model demonstrates least unintended bias. "
   ]
  },
  {
   "cell_type": "code",
   "execution_count": null,
   "metadata": {},
   "outputs": [],
   "source": [
    "cm = sns.light_palette(\"red\", as_cmap=True)"
   ]
  },
  {
   "cell_type": "code",
   "execution_count": null,
   "metadata": {
    "colab": {
     "autoexec": {
      "startup": false,
      "wait_interval": 0
     },
     "base_uri": "https://localhost:8080/",
     "height": 611
    },
    "colab_type": "code",
    "executionInfo": {
     "elapsed": 1019,
     "status": "error",
     "timestamp": 1530641407221,
     "user": {
      "displayName": "Flavien Prost",
      "photoUrl": "//lh5.googleusercontent.com/-2GvWuP8dy24/AAAAAAAAAAI/AAAAAAAAAHI/aCatYKxJMXQ/s50-c-k-no/photo.jpg",
      "userId": "100080410554240838905"
     },
     "user_tz": 240
    },
    "id": "W8p5iHW2RZmN",
    "outputId": "e4b3f09b-ad81-48dc-b9ad-ef2a77233044",
    "scrolled": true
   },
   "outputs": [],
   "source": [
    "eq_diff = model_bias_analysis.per_subgroup_auc_diff_from_overall(\n",
    "    test_bias_df, terms, MODEL_FAMILIES, squared_error=True) \n",
    "# sort to guarantee determi7nistic output\n",
    "eq_diff.sort_values(by=['model_family'], inplace=True)\n",
    "eq_diff.reset_index(drop=True, inplace=True)\n",
    "eq_diff.style.background_gradient(cmap=cm)"
   ]
  },
  {
   "cell_type": "markdown",
   "metadata": {
    "colab_type": "text",
    "id": "7bEC5cAsyC05"
   },
   "source": [
    "### Pinned AUC Graphs\n",
    "The graphs below show per-group Pinned AUC for each subgroup and each model. Each\n",
    "identity group shows 3 points, each representing the pinned AUC for one training \n",
    "version of the model. More consistency among the values represents less unintended bias."
   ]
  },
  {
   "cell_type": "code",
   "execution_count": null,
   "metadata": {
    "colab": {
     "autoexec": {
      "startup": false,
      "wait_interval": 0
     },
     "base_uri": "https://localhost:8080/",
     "height": 365
    },
    "colab_type": "code",
    "executionInfo": {
     "elapsed": 1552,
     "status": "ok",
     "timestamp": 1530303491427,
     "user": {
      "displayName": "Flavien Prost",
      "photoUrl": "//lh5.googleusercontent.com/-2GvWuP8dy24/AAAAAAAAAAI/AAAAAAAAAHI/aCatYKxJMXQ/s50-c-k-no/photo.jpg",
      "userId": "100080410554240838905"
     },
     "user_tz": 240
    },
    "id": "QqMmPTreOCPf",
    "outputId": "39cc5e70-b76d-413e-b286-e25f7a68e732"
   },
   "outputs": [],
   "source": [
    "pinned_auc_results = model_bias_analysis.per_subgroup_aucs(test_bias_df, terms, MODEL_FAMILIES, 'label')\n",
    "for family in MODEL_FAMILIES:\n",
    "  name = model_bias_analysis.model_family_name(family)\n",
    "  model_bias_analysis.per_subgroup_scatterplots(\n",
    "      pinned_auc_results,\n",
    "      'subgroup',\n",
    "      name + '_aucs',\n",
    "      name + ' Pinned AUC',\n",
    "      y_lim=(0., 1.0))"
   ]
  },
  {
   "cell_type": "code",
   "execution_count": null,
   "metadata": {},
   "outputs": [],
   "source": []
  }
 ],
 "metadata": {
  "colab": {
   "collapsed_sections": [],
   "default_view": {},
   "name": "jigsaw-evaluation-pipeline.ipynb",
   "provenance": [],
   "version": "0.3.2",
   "views": {}
  },
  "kernelspec": {
   "display_name": "Python 2",
   "language": "python",
   "name": "python2"
  },
  "language_info": {
   "codemirror_mode": {
    "name": "ipython",
    "version": 2
   },
   "file_extension": ".py",
   "mimetype": "text/x-python",
   "name": "python",
   "nbconvert_exporter": "python",
   "pygments_lexer": "ipython2",
   "version": "2.7.10"
  }
 },
 "nbformat": 4,
 "nbformat_minor": 1
}
