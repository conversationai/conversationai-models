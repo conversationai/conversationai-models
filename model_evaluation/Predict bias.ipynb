{
 "cells": [
  {
   "cell_type": "code",
   "execution_count": 105,
   "metadata": {},
   "outputs": [],
   "source": [
    "import tensorflow as tf\n",
    "from tensorflow.contrib.framework.python.framework import checkpoint_utils\n",
    "\n",
    "from sklearn.metrics.pairwise import cosine_similarity\n",
    "from sklearn.preprocessing import normalize\n",
    "import numpy as np\n",
    "import matplotlib.pyplot as plt"
   ]
  },
  {
   "cell_type": "code",
   "execution_count": 3,
   "metadata": {},
   "outputs": [],
   "source": [
    "MODEL_DIR_OCCUPATION = 'gs://conversationai-models/tf_trainer_runs/fprost/tf_gru_attention_multiclass_biosbias_glove/20190328_103117/model_dir/model.ckpt-100000'\n",
    "MODEL_DIR_GENDER = [\n",
    "    'gs://conversationai-models/tf_trainer_runs/fprost/tf_gru_attention_multiclass_warmstart_biosbias_glove/20190411_145753/model_dir/model.ckpt-215000',\n",
    "    'gs://conversationai-models/tf_trainer_runs/fprost/tf_gru_attention_multiclass_warmstart_biosbias_glove/20190411_152404/model_dir/model.ckpt-249000',\n",
    "    'gs://conversationai-models/tf_trainer_runs/fprost/tf_gru_attention_multiclass_warmstart_biosbias_glove/20190411_152451/model_dir/model.ckpt-186000',\n",
    "    'gs://conversationai-models/tf_trainer_runs/fprost/tf_gru_attention_multiclass_warmstart_biosbias_glove/20190411_152506/model_dir/model.ckpt-163000',\n",
    "]"
   ]
  },
  {
   "cell_type": "markdown",
   "metadata": {},
   "source": [
    "# Extract two matrices."
   ]
  },
  {
   "cell_type": "code",
   "execution_count": 4,
   "metadata": {},
   "outputs": [
    {
     "name": "stdout",
     "output_type": "stream",
     "text": [
      "('dense/bias', [1])\n",
      "('dense/bias/Adam', [1])\n",
      "('dense/bias/Adam_1', [1])\n",
      "('dense/kernel', [256, 1])\n",
      "('dense/kernel/Adam', [256, 1])\n",
      "('dense/kernel/Adam_1', [256, 1])\n",
      "('dense_1/bias', [128])\n",
      "('dense_1/bias/Adam', [128])\n",
      "('dense_1/bias/Adam_1', [128])\n",
      "('dense_1/kernel', [256, 128])\n",
      "('dense_1/kernel/Adam', [256, 128])\n",
      "('dense_1/kernel/Adam_1', [256, 128])\n",
      "('dense_2/bias', [33])\n",
      "('dense_2/bias/Adam', [33])\n",
      "('dense_2/bias/Adam_1', [33])\n",
      "('dense_2/kernel', [128, 33])\n",
      "('dense_2/kernel/Adam', [128, 33])\n",
      "('dense_2/kernel/Adam_1', [128, 33])\n",
      "('embeddings', [400002, 100])\n",
      "('global_step', [])\n",
      "('rnn/multi_rnn_cell/cell_0/gru_cell/candidate/bias', [256])\n",
      "('rnn/multi_rnn_cell/cell_0/gru_cell/candidate/bias/Adam', [256])\n",
      "('rnn/multi_rnn_cell/cell_0/gru_cell/candidate/bias/Adam_1', [256])\n",
      "('rnn/multi_rnn_cell/cell_0/gru_cell/candidate/kernel', [356, 256])\n",
      "('rnn/multi_rnn_cell/cell_0/gru_cell/candidate/kernel/Adam', [356, 256])\n",
      "('rnn/multi_rnn_cell/cell_0/gru_cell/candidate/kernel/Adam_1', [356, 256])\n",
      "('rnn/multi_rnn_cell/cell_0/gru_cell/gates/bias', [512])\n",
      "('rnn/multi_rnn_cell/cell_0/gru_cell/gates/bias/Adam', [512])\n",
      "('rnn/multi_rnn_cell/cell_0/gru_cell/gates/bias/Adam_1', [512])\n",
      "('rnn/multi_rnn_cell/cell_0/gru_cell/gates/kernel', [356, 512])\n",
      "('rnn/multi_rnn_cell/cell_0/gru_cell/gates/kernel/Adam', [356, 512])\n",
      "('rnn/multi_rnn_cell/cell_0/gru_cell/gates/kernel/Adam_1', [356, 512])\n",
      "('signal_early_stopping/STOP', [])\n",
      "('title/beta1_power', [])\n",
      "('title/beta2_power', [])\n"
     ]
    }
   ],
   "source": [
    "var_list = checkpoint_utils.list_variables(MODEL_DIR_OCCUPATION)\n",
    "for v in var_list:\n",
    "    print(v)"
   ]
  },
  {
   "cell_type": "code",
   "execution_count": 5,
   "metadata": {},
   "outputs": [],
   "source": [
    "kernel_occupation = np.transpose(checkpoint_utils.load_variable(MODEL_DIR_OCCUPATION, 'dense_2/kernel'))"
   ]
  },
  {
   "cell_type": "code",
   "execution_count": 7,
   "metadata": {},
   "outputs": [
    {
     "name": "stdout",
     "output_type": "stream",
     "text": [
      "('beta1_power', [])\n",
      "('beta2_power', [])\n",
      "('dense/bias', [1])\n",
      "('dense/kernel', [256, 1])\n",
      "('dense_1/bias', [128])\n",
      "('dense_1/kernel', [256, 128])\n",
      "('embeddings', [400002, 100])\n",
      "('final_layer/bias', [1])\n",
      "('final_layer/bias/Adam', [1])\n",
      "('final_layer/bias/Adam_1', [1])\n",
      "('final_layer/kernel', [128, 1])\n",
      "('final_layer/kernel/Adam', [128, 1])\n",
      "('final_layer/kernel/Adam_1', [128, 1])\n",
      "('global_step', [])\n",
      "('rnn/multi_rnn_cell/cell_0/gru_cell/candidate/bias', [256])\n",
      "('rnn/multi_rnn_cell/cell_0/gru_cell/candidate/kernel', [356, 256])\n",
      "('rnn/multi_rnn_cell/cell_0/gru_cell/gates/bias', [512])\n",
      "('rnn/multi_rnn_cell/cell_0/gru_cell/gates/kernel', [356, 512])\n",
      "('signal_early_stopping/STOP', [])\n"
     ]
    }
   ],
   "source": [
    "var_list = checkpoint_utils.list_variables(MODEL_DIR_GENDER[0])\n",
    "for v in var_list:\n",
    "    print(v)"
   ]
  },
  {
   "cell_type": "code",
   "execution_count": 18,
   "metadata": {},
   "outputs": [],
   "source": [
    "kernel_gender = [np.transpose(checkpoint_utils.load_variable(d, 'final_layer/kernel')) for d in MODEL_DIR_GENDER]"
   ]
  },
  {
   "cell_type": "markdown",
   "metadata": {},
   "source": [
    "# Compute cosine."
   ]
  },
  {
   "cell_type": "code",
   "execution_count": 20,
   "metadata": {},
   "outputs": [],
   "source": [
    "TITLE_LABELS = [\n",
    "    'accountant', 'acupuncturist', 'architect', 'attorney', 'chiropractor', 'comedian', 'composer', 'dentist',\n",
    "    'dietitian', 'dj', 'filmmaker', 'interior_designer', 'journalist', 'landscape_architect', 'magician',\n",
    "    'massage_therapist', 'model', 'nurse', 'painter', 'paralegal', 'pastor', 'personal_trainer',\n",
    "    'photographer', 'physician', 'poet', 'professor', 'psychologist', 'rapper',\n",
    "    'real_estate_broker', 'software_engineer', 'surgeon', 'teacher', 'yoga_teacher']"
   ]
  },
  {
   "cell_type": "code",
   "execution_count": 19,
   "metadata": {},
   "outputs": [
    {
     "data": {
      "text/plain": [
       "(1, 128)"
      ]
     },
     "execution_count": 19,
     "metadata": {},
     "output_type": "execute_result"
    }
   ],
   "source": [
    "kernel_gender[0].shape"
   ]
  },
  {
   "cell_type": "code",
   "execution_count": 57,
   "metadata": {},
   "outputs": [],
   "source": [
    "# compare every pair of kernel genders\n",
    "def compare_gender_dirs(i, j):\n",
    "    k1 = normalize(kernel_gender[i].reshape(1, -1))\n",
    "    k2 = normalize(kernel_gender[j].reshape(1, -1))\n",
    "    return cosine_similarity(k1, k2)[0][0]"
   ]
  },
  {
   "cell_type": "code",
   "execution_count": 59,
   "metadata": {
    "scrolled": false
   },
   "outputs": [
    {
     "name": "stdout",
     "output_type": "stream",
     "text": [
      "cosine similarity\n",
      "-----------------\n",
      "0&1: 0.6751\n",
      "0&2: 0.6922\n",
      "0&3: 0.5317\n",
      "1&2: 0.8031\n",
      "1&3: 0.6210\n",
      "2&3: 0.7388\n"
     ]
    }
   ],
   "source": [
    "print('cosine similarity')\n",
    "print('-----------------')\n",
    "for i in range(len(kernel_gender)):\n",
    "    for j in range(i+1, len(kernel_gender)):\n",
    "        print('{}&{}: {:.4f}'.format(i,j,compare_gender_dirs(i,j)))"
   ]
  },
  {
   "cell_type": "code",
   "execution_count": 16,
   "metadata": {},
   "outputs": [],
   "source": [
    "# Compute mean\n",
    "kernel_occupation_mean = np.mean(kernel_occupation, axis=0)\n",
    "# Apply  x - np.sum(np.multiply(x, mean))* mean"
   ]
  },
  {
   "cell_type": "code",
   "execution_count": 103,
   "metadata": {},
   "outputs": [
    {
     "name": "stdout",
     "output_type": "stream",
     "text": [
      "Model 0\n",
      "--------\n",
      "accountant:0.158934131265\n",
      "acupuncturist:-0.00246658176184\n",
      "architect:0.0262414831668\n",
      "attorney:0.0701843947172\n",
      "chiropractor:0.151446655393\n",
      "comedian:0.160642623901\n",
      "composer:0.123556695879\n",
      "dentist:-0.0134080462158\n",
      "dietitian:-0.0219126939774\n",
      "dj:0.148254662752\n",
      "filmmaker:0.126566886902\n",
      "interior_designer:-0.122405454516\n",
      "journalist:0.0449348725379\n",
      "landscape_architect:-0.0106348320842\n",
      "magician:0.00028520077467\n",
      "massage_therapist:-0.0029302239418\n",
      "model:-0.110116116703\n",
      "nurse:-0.122437313199\n",
      "painter:-0.0652433410287\n",
      "paralegal:-0.0483433827758\n",
      "pastor:0.190286368132\n",
      "personal_trainer:0.09811873734\n",
      "photographer:0.156098395586\n",
      "physician:-0.00970926880836\n",
      "poet:0.0886058360338\n",
      "professor:0.0128441434354\n",
      "psychologist:-0.022803556174\n",
      "rapper:0.123992994428\n",
      "real_estate_broker:-0.0125496685505\n",
      "software_engineer:0.043130338192\n",
      "surgeon:0.132479757071\n",
      "teacher:0.0157231092453\n",
      "yoga_teacher:-0.0365795046091\n",
      "\n",
      "Model 1\n",
      "--------\n",
      "accountant:0.154791727662\n",
      "acupuncturist:-0.0237082242966\n",
      "architect:0.0841405838728\n",
      "attorney:0.0278036240488\n",
      "chiropractor:0.120369873941\n",
      "comedian:0.108485177159\n",
      "composer:0.131366327405\n",
      "dentist:-0.0315690524876\n",
      "dietitian:-0.0265656709671\n",
      "dj:0.117952205241\n",
      "filmmaker:0.0796149075031\n",
      "interior_designer:-0.0443692281842\n",
      "journalist:-0.014246147126\n",
      "landscape_architect:-0.00103526562452\n",
      "magician:-0.00508479773998\n",
      "massage_therapist:-0.00794963538647\n",
      "model:-0.0748461037874\n",
      "nurse:-0.120218493044\n",
      "painter:-0.0645032227039\n",
      "paralegal:-0.0512410737574\n",
      "pastor:0.152369007468\n",
      "personal_trainer:0.127743527293\n",
      "photographer:0.121058508754\n",
      "physician:0.0407025739551\n",
      "poet:0.010983273387\n",
      "professor:0.0187878608704\n",
      "psychologist:-0.0386432409286\n",
      "rapper:0.0508694797754\n",
      "real_estate_broker:-0.0120541751385\n",
      "software_engineer:-0.0279122292995\n",
      "surgeon:0.129465520382\n",
      "teacher:0.0267724767327\n",
      "yoga_teacher:-0.0739045143127\n",
      "\n",
      "Model 2\n",
      "--------\n",
      "accountant:0.17791774869\n",
      "acupuncturist:0.00313566625118\n",
      "architect:0.144139274955\n",
      "attorney:0.0180241279304\n",
      "chiropractor:0.162374377251\n",
      "comedian:0.170074135065\n",
      "composer:0.132488399744\n",
      "dentist:0.03158223629\n",
      "dietitian:-0.0373584628105\n",
      "dj:0.135971337557\n",
      "filmmaker:0.0770366862416\n",
      "interior_designer:-0.0419616624713\n",
      "journalist:0.0323521643877\n",
      "landscape_architect:0.0181329026818\n",
      "magician:0.0200299993157\n",
      "massage_therapist:0.0230429917574\n",
      "model:-0.0637541860342\n",
      "nurse:-0.0986954197288\n",
      "painter:-0.04604306072\n",
      "paralegal:-0.0669021457434\n",
      "pastor:0.184867173433\n",
      "personal_trainer:0.11712384969\n",
      "photographer:0.111285835505\n",
      "physician:0.0383412092924\n",
      "poet:0.0852751731873\n",
      "professor:-0.00144015438855\n",
      "psychologist:-0.0265918523073\n",
      "rapper:0.0948296040297\n",
      "real_estate_broker:-0.00786580890417\n",
      "software_engineer:0.0538106039166\n",
      "surgeon:0.115128681064\n",
      "teacher:0.0955981463194\n",
      "yoga_teacher:-0.0250452160835\n",
      "\n",
      "Model 3\n",
      "--------\n",
      "accountant:0.166172325611\n",
      "acupuncturist:0.0126617029309\n",
      "architect:0.185266971588\n",
      "attorney:0.0561245307326\n",
      "chiropractor:0.0904927402735\n",
      "comedian:0.0774948596954\n",
      "composer:0.133147656918\n",
      "dentist:0.0560089871287\n",
      "dietitian:-0.0664186626673\n",
      "dj:0.117037713528\n",
      "filmmaker:0.0542184337974\n",
      "interior_designer:-0.066145837307\n",
      "journalist:-0.0476839803159\n",
      "landscape_architect:0.0362621545792\n",
      "magician:0.0299401581287\n",
      "massage_therapist:0.0345251783729\n",
      "model:-0.0747163295746\n",
      "nurse:-0.0824802964926\n",
      "painter:-0.124359555542\n",
      "paralegal:-0.0465596467257\n",
      "pastor:0.224887400866\n",
      "personal_trainer:0.10170545429\n",
      "photographer:0.0995443314314\n",
      "physician:0.0440060570836\n",
      "poet:0.0483316332102\n",
      "professor:-0.0360846891999\n",
      "psychologist:-0.033901296556\n",
      "rapper:0.100441634655\n",
      "real_estate_broker:0.0265361964703\n",
      "software_engineer:0.00429005362093\n",
      "surgeon:0.105193056166\n",
      "teacher:-0.033475972712\n",
      "yoga_teacher:-0.0307573843747\n",
      "\n"
     ]
    }
   ],
   "source": [
    "biases = []\n",
    "for i in range(len(kernel_gender)):\n",
    "    biases.append([])\n",
    "    print('Model {}'.format(i))\n",
    "    print('--------')\n",
    "    for j in range(33):\n",
    "        _bias = float(cosine_similarity(kernel_gender[i], kernel_occupation[j].reshape(1, -1)))\n",
    "        biases[i].append(_bias)\n",
    "        print ('{}:{}'.format(TITLE_LABELS[j], _bias))\n",
    "    print('')"
   ]
  },
  {
   "cell_type": "code",
   "execution_count": 108,
   "metadata": {},
   "outputs": [
    {
     "data": {
      "image/png": "[encoded data removed]",
      "text/plain": [
       "<matplotlib.figure.Figure at 0x12a90edd0>"
      ]
     },
     "metadata": {
      "needs_background": "light"
     },
     "output_type": "display_data"
    }
   ],
   "source": [
    "# Heatmap of cosine similarities\n",
    "plt.imshow(np.array(biases), cmap='hot', interpolation='nearest')\n",
    "plt.show()"
   ]
  }
 ],
 "metadata": {
  "kernelspec": {
   "display_name": "Python 2",
   "language": "python",
   "name": "python2"
  },
  "language_info": {
   "codemirror_mode": {
    "name": "ipython",
    "version": 2
   },
   "file_extension": ".py",
   "mimetype": "text/x-python",
   "name": "python",
   "nbconvert_exporter": "python",
   "pygments_lexer": "ipython2",
   "version": "2.7.10"
  }
 },
 "nbformat": 4,
 "nbformat_minor": 2
}
