{
 "cells": [
  {
   "cell_type": "markdown",
   "metadata": {},
   "source": [
    "# Analyze embedding corpus"
   ]
  },
  {
   "cell_type": "code",
   "execution_count": null,
   "metadata": {},
   "outputs": [],
   "source": [
    "import numpy as np\n",
    "import tensorflow as tf\n",
    "import multiprocessing"
   ]
  },
  {
   "cell_type": "code",
   "execution_count": null,
   "metadata": {},
   "outputs": [],
   "source": [
    "embeddings_path=\"gs://kaggle-model-experiments/resources/google-news/GoogleNews-vectors-negative300.txt\"\n",
    "is_binary_embedding=True\n",
    "max_words=float('nan')"
   ]
  },
  {
   "cell_type": "code",
   "execution_count": null,
   "metadata": {},
   "outputs": [],
   "source": [
    "word_to_idx = {}\n",
    "word_embeddings = []\n",
    "if is_binary_embedding:\n",
    "  read_mode = 'rb'\n",
    "else:\n",
    "  read_mode = 'r'\n",
    "with tf.gfile.Open(embeddings_path, read_mode) as f:\n",
    "  for idx, line in enumerate(f):\n",
    "    if max_words and idx >= max_words:\n",
    "      break\n",
    "\n",
    "    values = line.split()\n",
    "    # Remove header when necessary.\n",
    "    if len(values) == 2 and idx == 0:\n",
    "      continue\n",
    "    word = values[0]\n",
    "    #word_embedding = np.asarray(values[1:], dtype='float32')\n",
    "    word_to_idx[word] = idx + 1  # Reserve first row for padding\n",
    "    word_embeddings.append(word)"
   ]
  },
  {
   "cell_type": "code",
   "execution_count": null,
   "metadata": {},
   "outputs": [],
   "source": [
    "embeddings_path=\"gs://kaggle-model-experiments/resources/glove.6B/glove.6B.300d.txt\"\n",
    "is_binary_embedding=False\n",
    "max_words=float('nan')"
   ]
  },
  {
   "cell_type": "code",
   "execution_count": null,
   "metadata": {},
   "outputs": [],
   "source": [
    "word_to_idx = {}\n",
    "word_embeddings2 = []\n",
    "if is_binary_embedding:\n",
    "  read_mode = 'rb'\n",
    "else:\n",
    "  read_mode = 'r'\n",
    "with tf.gfile.Open(embeddings_path, read_mode) as f:\n",
    "  for idx, line in enumerate(f):\n",
    "    if max_words and idx >= max_words:\n",
    "      break\n",
    "\n",
    "    values = line.split()\n",
    "    # Remove header when necessary.\n",
    "    if len(values) == 2 and idx == 0:\n",
    "      continue\n",
    "    word = values[0]\n",
    "    #word_embedding = np.asarray(values[1:], dtype='float32')\n",
    "    word_to_idx[word] = idx + 1  # Reserve first row for padding\n",
    "    word_embeddings2.append(word)"
   ]
  },
  {
   "cell_type": "code",
   "execution_count": null,
   "metadata": {},
   "outputs": [],
   "source": [
    "len(word_embeddings)"
   ]
  },
  {
   "cell_type": "code",
   "execution_count": null,
   "metadata": {},
   "outputs": [],
   "source": [
    "len(word_embeddings2)"
   ]
  },
  {
   "cell_type": "code",
   "execution_count": null,
   "metadata": {},
   "outputs": [],
   "source": [
    "'.' in word_embeddings"
   ]
  },
  {
   "cell_type": "code",
   "execution_count": null,
   "metadata": {},
   "outputs": [],
   "source": [
    "'.' in word_embeddings2"
   ]
  },
  {
   "cell_type": "code",
   "execution_count": null,
   "metadata": {},
   "outputs": [],
   "source": [
    "\"n't\" in word_embeddings2"
   ]
  },
  {
   "cell_type": "code",
   "execution_count": null,
   "metadata": {},
   "outputs": [],
   "source": [
    "\"n't\" in word_embeddings"
   ]
  },
  {
   "cell_type": "code",
   "execution_count": null,
   "metadata": {},
   "outputs": [],
   "source": [
    "print('This' in word_embeddings)\n",
    "print('this' in word_embeddings)"
   ]
  },
  {
   "cell_type": "code",
   "execution_count": null,
   "metadata": {},
   "outputs": [],
   "source": [
    "print('This' in word_embeddings2)\n",
    "print('this' in word_embeddings2)"
   ]
  },
  {
   "cell_type": "code",
   "execution_count": null,
   "metadata": {},
   "outputs": [],
   "source": [
    "print('of' in word_embeddings)\n",
    "print('of' in word_embeddings2)"
   ]
  },
  {
   "cell_type": "code",
   "execution_count": null,
   "metadata": {},
   "outputs": [],
   "source": [
    "print('to' in word_embeddings)\n",
    "print('to' in word_embeddings2)"
   ]
  },
  {
   "cell_type": "code",
   "execution_count": null,
   "metadata": {},
   "outputs": [],
   "source": [
    "print('this' in word_embeddings)\n",
    "print('this' in word_embeddings2)"
   ]
  },
  {
   "cell_type": "code",
   "execution_count": null,
   "metadata": {},
   "outputs": [],
   "source": []
  },
  {
   "cell_type": "code",
   "execution_count": null,
   "metadata": {},
   "outputs": [],
   "source": []
  },
  {
   "cell_type": "code",
   "execution_count": null,
   "metadata": {},
   "outputs": [],
   "source": []
  },
  {
   "cell_type": "code",
   "execution_count": null,
   "metadata": {},
   "outputs": [],
   "source": []
  },
  {
   "cell_type": "code",
   "execution_count": null,
   "metadata": {},
   "outputs": [],
   "source": []
  },
  {
   "cell_type": "code",
   "execution_count": null,
   "metadata": {},
   "outputs": [],
   "source": []
  },
  {
   "cell_type": "code",
   "execution_count": null,
   "metadata": {},
   "outputs": [],
   "source": []
  },
  {
   "cell_type": "code",
   "execution_count": null,
   "metadata": {},
   "outputs": [],
   "source": []
  },
  {
   "cell_type": "code",
   "execution_count": null,
   "metadata": {},
   "outputs": [],
   "source": []
  },
  {
   "cell_type": "code",
   "execution_count": null,
   "metadata": {},
   "outputs": [],
   "source": []
  }
 ],
 "metadata": {
  "kernelspec": {
   "display_name": "Python 2",
   "language": "python",
   "name": "python2"
  },
  "language_info": {
   "codemirror_mode": {
    "name": "ipython",
    "version": 2
   },
   "file_extension": ".py",
   "mimetype": "text/x-python",
   "name": "python",
   "nbconvert_exporter": "python",
   "pygments_lexer": "ipython2",
   "version": "2.7.15"
  }
 },
 "nbformat": 4,
 "nbformat_minor": 2
}
