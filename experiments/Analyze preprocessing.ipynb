{
 "cells": [
  {
   "cell_type": "code",
   "execution_count": null,
   "metadata": {},
   "outputs": [],
   "source": [
    "%load_ext autoreload"
   ]
  },
  {
   "cell_type": "code",
   "execution_count": null,
   "metadata": {},
   "outputs": [],
   "source": [
    "%autoreload 2"
   ]
  },
  {
   "cell_type": "code",
   "execution_count": null,
   "metadata": {},
   "outputs": [],
   "source": [
    "import sys\n",
    "#sys.path.append('/usr/local/google/home/fprost/Documents/Projects/jigsaw/conversationai-models/experiments')"
   ]
  },
  {
   "cell_type": "code",
   "execution_count": null,
   "metadata": {},
   "outputs": [],
   "source": [
    "\"\"\"Experiments with Toxicity Dataset\"\"\"\n",
    "\n",
    "from __future__ import absolute_import\n",
    "from __future__ import division\n",
    "from __future__ import print_function\n",
    "\n",
    "# Import common flags and run code. Must be imported first.\n",
    "#from tf_trainer.common import model_trainer\n",
    "\n",
    "from tf_trainer.common import tfrecord_input\n",
    "from tf_trainer.common import serving_input\n",
    "from tf_trainer.common import text_preprocessor\n",
    "from tf_trainer.common import types\n",
    "from tf_trainer.keras_gru_attention import model as keras_gru_attention\n",
    "\n",
    "import nltk\n",
    "import tensorflow as tf\n",
    "\n",
    "from typing import Dict"
   ]
  },
  {
   "cell_type": "code",
   "execution_count": null,
   "metadata": {},
   "outputs": [],
   "source": [
    "FLAGS = tf.app.flags.FLAGS\n",
    "\n",
    "tf.app.flags.DEFINE_string(\"embeddings_path\",\n",
    "                           \"gs://kaggle-model-experiments/resources/glove.6B/glove.6B.300d.txt\",\n",
    "                           \"Path to the embeddings file.\")\n",
    "tf.app.flags.DEFINE_boolean(\"is_binary_embedding\", False,\n",
    "                           \"Whether embeddings are binaries.\")\n",
    "tf.app.flags.DEFINE_string(\"text_feature_name\", \"comment_text\",\n",
    "                           \"Feature name of the text feature.\")\n",
    "tf.app.flags.DEFINE_string(\"key_name\", \"comment_key\",\n",
    "                           \"Name of the key feature for serving examples.\")\n",
    "tf.app.flags.DEFINE_boolean(\"preprocess_in_tf\", False,\n",
    "                           \"Run preprocessing with TensorFlow operations,\"\n",
    "                           \"required for serving.\")\n",
    "tf.app.flags.DEFINE_integer(\"batch_size\", 5,\n",
    "                            \"The batch size to use during training.\")\n",
    "tf.app.flags.DEFINE_integer(\"train_steps\", 20000,\n",
    "                            \"The number of steps to train for.\")\n",
    "tf.app.flags.DEFINE_integer(\"eval_period\", 100,\n",
    "                            \"The number of steps per eval period.\")\n",
    "tf.app.flags.DEFINE_integer(\"eval_steps\", 20,\n",
    "                            \"The number of steps to eval for.\")\n",
    "\n",
    "\n",
    "# TODO: Missing fields are not handled properly yet.\n",
    "LABELS = {\n",
    "    \"frac_neg\": tf.float32,\n",
    "    #\"frac_very_neg\": tf.float32\n",
    "}  # type: Dict[str, tf.DType]"
   ]
  },
  {
   "cell_type": "code",
   "execution_count": null,
   "metadata": {},
   "outputs": [],
   "source": [
    "def main(argv):\n",
    "  del argv  # unused"
   ]
  },
  {
   "cell_type": "code",
   "execution_count": null,
   "metadata": {},
   "outputs": [],
   "source": [
    "try:\n",
    "    tf.logging.set_verbosity(tf.logging.INFO)\n",
    "    tf.app.run(main)\n",
    "except:\n",
    "    pass"
   ]
  },
  {
   "cell_type": "markdown",
   "metadata": {},
   "source": [
    "# Glove embeddings"
   ]
  },
  {
   "cell_type": "code",
   "execution_count": null,
   "metadata": {},
   "outputs": [],
   "source": [
    "embeddings_path = 'gs://kaggle-model-experiments/resources/glove.6B/glove.6B.300d.txt'\n",
    "is_binary_embedding = False\n",
    "text_feature_name = FLAGS.text_feature_name\n",
    "key_name = FLAGS.key_name\n",
    "\n",
    "preprocessor = text_preprocessor.TextPreprocessor(embeddings_path, is_binary_embedding)"
   ]
  },
  {
   "cell_type": "markdown",
   "metadata": {},
   "source": [
    "## Preprocess in python"
   ]
  },
  {
   "cell_type": "code",
   "execution_count": null,
   "metadata": {},
   "outputs": [],
   "source": [
    "preprocess_in_tf = False\n",
    "\n",
    "if preprocess_in_tf:\n",
    "  tokenize_op_init = lambda: preprocessor.tokenize_tensor_op_tf_func()\n",
    "else:\n",
    "  nltk.download(\"punkt\")\n",
    "  tokenize_op_init = lambda: preprocessor.tokenize_tensor_op_py_func(nltk.word_tokenize)\n",
    "dataset = tfrecord_input.TFRecordInput(\n",
    "  train_path=\"gs://kaggle-model-experiments/resources/toxicity_q42017_train.tfrecord\",\n",
    "  validate_path=\"gs://kaggle-model-experiments/resources/toxicity_q42017_train.tfrecord\",\n",
    "  text_feature=text_feature_name,\n",
    "  labels=LABELS,\n",
    "  feature_preprocessor_init=tokenize_op_init,\n",
    "  batch_size=FLAGS.batch_size)\n",
    "\n",
    "input_fn = dataset.train_input_fn"
   ]
  },
  {
   "cell_type": "code",
   "execution_count": null,
   "metadata": {
    "scrolled": true
   },
   "outputs": [],
   "source": [
    "import numpy as np\n",
    "\n",
    "prop_list = []\n",
    "el = input_fn()\n",
    "with tf.Session() as sess:\n",
    "    sess.run(tf.global_variables_initializer())\n",
    "    sess.run(tf.local_variables_initializer())\n",
    "    sess.run(tf.tables_initializer())\n",
    "    for i in range(500):\n",
    "      d = sess.run(el)\n",
    "      d = d[0]\n",
    "      for i in range(d['comment_text'].shape[0]):\n",
    "            prop = np.mean([word==400001 for word in d['comment_text'][i]])\n",
    "      prop_list.append(prop)\n",
    "      #print (d)\n",
    "print ('FINAL PROPORTION')\n",
    "print (np.mean(prop_list))"
   ]
  },
  {
   "cell_type": "code",
   "execution_count": null,
   "metadata": {},
   "outputs": [],
   "source": []
  },
  {
   "cell_type": "code",
   "execution_count": null,
   "metadata": {},
   "outputs": [],
   "source": []
  },
  {
   "cell_type": "markdown",
   "metadata": {},
   "source": [
    "## Preprocess in tf"
   ]
  },
  {
   "cell_type": "code",
   "execution_count": null,
   "metadata": {},
   "outputs": [],
   "source": [
    "preprocess_in_tf = True\n",
    "\n",
    "if preprocess_in_tf:\n",
    "  tokenize_op_init = lambda: preprocessor.tokenize_tensor_op_tf_func()\n",
    "else:\n",
    "  nltk.download(\"punkt\")\n",
    "  tokenize_op_init = lambda: preprocessor.tokenize_tensor_op_py_func(nltk.word_tokenize)\n",
    "dataset = tfrecord_input.TFRecordInput(\n",
    "  train_path=\"gs://kaggle-model-experiments/resources/toxicity_q42017_train.tfrecord\",\n",
    "  validate_path=\"gs://kaggle-model-experiments/resources/toxicity_q42017_train.tfrecord\",\n",
    "  text_feature=text_feature_name,\n",
    "  labels=LABELS,\n",
    "  feature_preprocessor_init=tokenize_op_init,\n",
    "  batch_size=FLAGS.batch_size)\n",
    "\n",
    "input_fn = dataset.train_input_fn"
   ]
  },
  {
   "cell_type": "code",
   "execution_count": null,
   "metadata": {
    "scrolled": true
   },
   "outputs": [],
   "source": [
    "import numpy as np\n",
    "\n",
    "prop_list = []\n",
    "el = input_fn()\n",
    "with tf.Session() as sess:\n",
    "    sess.run(tf.global_variables_initializer())\n",
    "    sess.run(tf.local_variables_initializer())\n",
    "    sess.run(tf.tables_initializer())\n",
    "    for i in range(500):\n",
    "      d = sess.run(el)\n",
    "      d = d[0]\n",
    "      for i in range(d['comment_text'].shape[0]):\n",
    "            prop = np.mean([word==400001 for word in d['comment_text'][i]])\n",
    "      prop_list.append(prop)\n",
    "      #print (d)\n",
    "print ('FINAL PROPORTION')\n",
    "print (np.mean(prop_list))"
   ]
  },
  {
   "cell_type": "code",
   "execution_count": null,
   "metadata": {},
   "outputs": [],
   "source": []
  },
  {
   "cell_type": "code",
   "execution_count": null,
   "metadata": {},
   "outputs": [],
   "source": []
  },
  {
   "cell_type": "markdown",
   "metadata": {},
   "source": [
    "# Google-news embeddings"
   ]
  },
  {
   "cell_type": "code",
   "execution_count": null,
   "metadata": {},
   "outputs": [],
   "source": [
    "embeddings_path = 'gs://kaggle-model-experiments/resources/google-news/GoogleNews-vectors-negative300.txt'\n",
    "is_binary_embedding = True\n",
    "text_feature_name = FLAGS.text_feature_name\n",
    "key_name = FLAGS.key_name\n",
    "\n",
    "preprocessor_google = text_preprocessor.TextPreprocessor(embeddings_path, is_binary_embedding)"
   ]
  },
  {
   "cell_type": "markdown",
   "metadata": {},
   "source": [
    "## Preprocess in python"
   ]
  },
  {
   "cell_type": "code",
   "execution_count": null,
   "metadata": {},
   "outputs": [],
   "source": [
    "preprocess_in_tf = False\n",
    "\n",
    "if preprocess_in_tf:\n",
    "  tokenize_op_init = lambda: preprocessor_google.tokenize_tensor_op_tf_func()\n",
    "else:\n",
    "  nltk.download(\"punkt\")\n",
    "  tokenize_op_init = lambda: preprocessor_google.tokenize_tensor_op_py_func(nltk.word_tokenize)\n",
    "dataset = tfrecord_input.TFRecordInput(\n",
    "  train_path=\"gs://kaggle-model-experiments/resources/toxicity_q42017_train.tfrecord\",\n",
    "  validate_path=\"gs://kaggle-model-experiments/resources/toxicity_q42017_train.tfrecord\",\n",
    "  text_feature=text_feature_name,\n",
    "  labels=LABELS,\n",
    "  feature_preprocessor_init=tokenize_op_init,\n",
    "  batch_size=FLAGS.batch_size)\n",
    "\n",
    "input_fn = dataset.train_input_fn"
   ]
  },
  {
   "cell_type": "code",
   "execution_count": null,
   "metadata": {
    "scrolled": true
   },
   "outputs": [],
   "source": [
    "import numpy as np\n",
    "\n",
    "prop_list = []\n",
    "el = input_fn()\n",
    "with tf.Session() as sess:\n",
    "    sess.run(tf.global_variables_initializer())\n",
    "    sess.run(tf.local_variables_initializer())\n",
    "    sess.run(tf.tables_initializer())\n",
    "    for i in range(500):\n",
    "      d = sess.run(el)\n",
    "      d = d[0]\n",
    "      for i in range(d['comment_text'].shape[0]):\n",
    "            prop = np.mean([word==3000001 for word in d['comment_text'][i]])\n",
    "      prop_list.append(prop)\n",
    "      #print (d)\n",
    "print ('FINAL PROPORTION')\n",
    "print (np.mean(prop_list))"
   ]
  },
  {
   "cell_type": "code",
   "execution_count": null,
   "metadata": {},
   "outputs": [],
   "source": []
  },
  {
   "cell_type": "markdown",
   "metadata": {},
   "source": [
    "## Preprocess in tf"
   ]
  },
  {
   "cell_type": "code",
   "execution_count": null,
   "metadata": {},
   "outputs": [],
   "source": [
    "preprocess_in_tf = True\n",
    "\n",
    "if preprocess_in_tf:\n",
    "  tokenize_op_init = lambda: preprocessor_google.tokenize_tensor_op_tf_func()\n",
    "else:\n",
    "  nltk.download(\"punkt\")\n",
    "  tokenize_op_init = lambda: preprocessor_google.tokenize_tensor_op_py_func(nltk.word_tokenize)\n",
    "dataset = tfrecord_input.TFRecordInput(\n",
    "  train_path=\"gs://kaggle-model-experiments/resources/toxicity_q42017_train.tfrecord\",\n",
    "  validate_path=\"gs://kaggle-model-experiments/resources/toxicity_q42017_train.tfrecord\",\n",
    "  text_feature=text_feature_name,\n",
    "  labels=LABELS,\n",
    "  feature_preprocessor_init=tokenize_op_init,\n",
    "  batch_size=FLAGS.batch_size)\n",
    "\n",
    "input_fn = dataset.train_input_fn"
   ]
  },
  {
   "cell_type": "code",
   "execution_count": null,
   "metadata": {
    "scrolled": false
   },
   "outputs": [],
   "source": [
    "import numpy as np\n",
    "\n",
    "prop_list = []\n",
    "unknown_words = []\n",
    "el = input_fn()\n",
    "with tf.Session() as sess:\n",
    "    sess.run(tf.global_variables_initializer())\n",
    "    sess.run(tf.local_variables_initializer())\n",
    "    sess.run(tf.tables_initializer())\n",
    "    for i in range(50):\n",
    "      d = sess.run(el)\n",
    "      d = d[0]\n",
    "      for i in range(d['comment_text'].shape[0]):\n",
    "            prop = np.mean([word==3000001 for word in d['comment_text'][i]])\n",
    "            for j, word in enumerate(d['comment_text'][i]):\n",
    "                if word == 3000001:\n",
    "                    unknown_words.append(d['words'][i][j])\n",
    "      prop_list.append(prop)\n",
    "      #print (d)\n",
    "print ('FINAL PROPORTION')\n",
    "print (np.mean(prop_list))"
   ]
  },
  {
   "cell_type": "code",
   "execution_count": null,
   "metadata": {},
   "outputs": [],
   "source": [
    "unknown_words"
   ]
  },
  {
   "cell_type": "code",
   "execution_count": null,
   "metadata": {},
   "outputs": [],
   "source": []
  },
  {
   "cell_type": "code",
   "execution_count": null,
   "metadata": {},
   "outputs": [],
   "source": []
  },
  {
   "cell_type": "code",
   "execution_count": null,
   "metadata": {},
   "outputs": [],
   "source": []
  },
  {
   "cell_type": "code",
   "execution_count": null,
   "metadata": {},
   "outputs": [],
   "source": []
  },
  {
   "cell_type": "code",
   "execution_count": null,
   "metadata": {},
   "outputs": [],
   "source": []
  },
  {
   "cell_type": "code",
   "execution_count": null,
   "metadata": {},
   "outputs": [],
   "source": [
    "text = tf.placeholder(shape=[1], dtype=tf.string)\n",
    "text = tf.regex_replace(text, '\\n', ' ')\n",
    "text = tf.regex_replace(text, '\\.', ' ')\n",
    "text = tf.regex_replace(\n",
    "  text,\n",
    "  '[!\"#$%&()*+,-/:;<=>?@[\\]^_`{|}~]',\n",
    "  ' ')\n",
    "words = tf.string_split(text)\n",
    "words = tf.sparse_tensor_to_dense(words, default_value='')"
   ]
  },
  {
   "cell_type": "code",
   "execution_count": null,
   "metadata": {},
   "outputs": [],
   "source": [
    "sess = tf.Session()\n",
    "\n",
    "sess.run(words, feed_dict={text: ['This is a test']})"
   ]
  }
 ],
 "metadata": {
  "kernelspec": {
   "display_name": "Python 3",
   "language": "python",
   "name": "python3"
  },
  "language_info": {
   "codemirror_mode": {
    "name": "ipython",
    "version": 3
   },
   "file_extension": ".py",
   "mimetype": "text/x-python",
   "name": "python",
   "nbconvert_exporter": "python",
   "pygments_lexer": "ipython3",
   "version": "3.5.3"
  }
 },
 "nbformat": 4,
 "nbformat_minor": 2
}
